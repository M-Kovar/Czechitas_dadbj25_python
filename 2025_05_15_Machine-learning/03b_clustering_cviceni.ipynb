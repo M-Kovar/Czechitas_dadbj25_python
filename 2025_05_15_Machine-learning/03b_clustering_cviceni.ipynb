{
 "cells": [
  {
   "attachments": {},
   "cell_type": "markdown",
   "metadata": {},
   "source": [
    "# Cvičení: Clustering\n",
    "Zdroj: [Jiří Pešík. *Python pro data science.*](https://github.com/pesikj/PythonProDataScience)\n",
    "(upraveno)"
   ]
  },
  {
   "cell_type": "markdown",
   "metadata": {},
   "source": [
    "## Vzorky vína\n",
    "\n",
    "Pracuj se souborem [wine-regions.csv](data/wine-regions.csv). Každý záznam obsahuje informace o vzorku vína. Všechny vzorky pocházejí z jednoho regionu v Itálii, ale v datech se nachází několik různých odrůd. Naší úlohou bude data uspořádat do shluků, které by mohly odpovídat odrůdám.\n",
    "\n",
    "- Projdi kroky připravené níže a přesvědč se, že každému z nich v rámci možností rozumíš. Podle grafu odhadni vhodný počet shluků (pro urychlení vynecháme vhodnější odhad pomocí metriky *inertia*) a ten použij pro natrénování modelu K-means."
   ]
  },
  {
   "cell_type": "code",
   "execution_count": 1,
   "metadata": {},
   "outputs": [],
   "source": [
    "import matplotlib.pyplot as plt\n",
    "import pandas as pd\n",
    "from sklearn.cluster import KMeans\n",
    "from sklearn.manifold import TSNE\n",
    "from sklearn.preprocessing import StandardScaler"
   ]
  },
  {
   "cell_type": "code",
   "execution_count": null,
   "metadata": {},
   "outputs": [],
   "source": [
    "# Načtení dat\n",
    "X = pd.read_csv(\"wine-regions.csv\")\n",
    "X.head()"
   ]
  },
  {
   "cell_type": "code",
   "execution_count": null,
   "metadata": {},
   "outputs": [],
   "source": [
    "# Normalizace dat\n",
    "scaler = StandardScaler()\n",
    "X = scaler.fit_transform(X)\n",
    "\n",
    "# Zobrazení výsledku normalizace\n",
    "# (provizorně převedeme na DataFrame pro přehlednější zobrazení)\n",
    "pd.DataFrame(X).head()"
   ]
  },
  {
   "cell_type": "code",
   "execution_count": null,
   "metadata": {},
   "outputs": [],
   "source": [
    "# Redukce dimenzí na dvě\n",
    "# (Původní data mají 13 sloupců, tzn. 13 dimenzí)\n",
    "\n",
    "# Příprava metody TSNE\n",
    "# (TSNE: T-distributed Stochastic Neighbor Embedding)\n",
    "tsne = TSNE(n_components=2, random_state=42)\n",
    "\n",
    "# Aplikace připraveného TSNE modelu na data\n",
    "X = tsne.fit_transform(X)\n",
    "\n",
    "# Zobrazení výsledku redukce dimenzionality\n",
    "# (provizorně převedeme na DataFrame pro přehlednější zobrazení)\n",
    "pd.DataFrame(X).head()"
   ]
  },
  {
   "cell_type": "code",
   "execution_count": null,
   "metadata": {},
   "outputs": [],
   "source": [
    "# Zobrazení upravených dat\n",
    "plt.scatter(X[:, 0], X[:, 1], s=50)\n",
    "plt.title(\"Plotted data, reduced to 2 dimensions\")"
   ]
  },
  {
   "cell_type": "code",
   "execution_count": null,
   "metadata": {},
   "outputs": [],
   "source": [
    "# VLASTNÍ ŘEŠENÍ: Zde doplň své dva řádky kódu pro inicializaci modelu \n",
    "# a pro predikci příslušnosti do jednoho z clusterů.\n",
    "# Výsledek predikce ulož to proměnné \"labels\"."
   ]
  },
  {
   "cell_type": "code",
   "execution_count": null,
   "metadata": {},
   "outputs": [],
   "source": [
    "# Vykreslení bodů (barva podle příslušnosti ke clusteru)\n",
    "plt.scatter(X[:, 0], X[:, 1], c=labels, s=50, cmap=\"Accent\")\n",
    "# ... parametr s nastavuje velikost bodu\n",
    "# ... parametr cmap nastavuje \"colormap\" - výběr barviček zde: https://matplotlib.org/stable/tutorials/colors/colormaps.html\n",
    "\n",
    "# Vykreslení centroidů každého clusteru\n",
    "centers = model.cluster_centers_\n",
    "plt.scatter(centers[:, 0], centers[:, 1], c=\"red\", marker=\"P\", s=200, alpha=0.5)\n",
    "# ... parametr alpha nastavuje průhlednost\n",
    "# ... parametr marker nastavuje tvar značky\n",
    "plt.title(\"Clustered data\")"
   ]
  }
 ],
 "metadata": {
  "kernelspec": {
   "display_name": "Python 3",
   "language": "python",
   "name": "python3"
  },
  "language_info": {
   "codemirror_mode": {
    "name": "ipython",
    "version": 3
   },
   "file_extension": ".py",
   "mimetype": "text/x-python",
   "name": "python",
   "nbconvert_exporter": "python",
   "pygments_lexer": "ipython3",
   "version": "3.13.2"
  },
  "orig_nbformat": 4
 },
 "nbformat": 4,
 "nbformat_minor": 2
}
