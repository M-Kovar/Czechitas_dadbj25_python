{
 "cells": [
  {
   "attachments": {},
   "cell_type": "markdown",
   "metadata": {},
   "source": [
    "# Cvičení: Lineární regrese\n",
    "Zdroj: [Jiří Pešík. *Python pro data science.*](https://github.com/pesikj/PythonProDataScience)\n",
    "(upraveno)"
   ]
  },
  {
   "attachments": {},
   "cell_type": "markdown",
   "metadata": {},
   "source": [
    "## Pojišťovna\n",
    "\n",
    "V souboru `expenses.csv` najdeš informace o platbách za pojištěnce jedné pojišťovny: věk, pohlaví, BMI (index počítaný jako hmotnost dělená výškou), počet dětí, kuřák/nekuřák, region a platby za pojištěnce. ...\n",
    "\n",
    "Cílem cvičení bude vytvořit regresní model pro odhad plateb pojišťovny za pojištěnce."
   ]
  },
  {
   "cell_type": "code",
   "execution_count": null,
   "metadata": {},
   "outputs": [],
   "source": [
    "import pandas as pd\n",
    "import statsmodels.formula.api as smf"
   ]
  },
  {
   "cell_type": "code",
   "execution_count": null,
   "metadata": {},
   "outputs": [],
   "source": [
    "data = pd.read_csv(\"expenses.csv\")\n",
    "data"
   ]
  },
  {
   "cell_type": "markdown",
   "metadata": {},
   "source": [
    "## Základní model"
   ]
  },
  {
   "attachments": {},
   "cell_type": "markdown",
   "metadata": {},
   "source": [
    "Vytvoř regresní model, který odhadne platby za pojištěnce na základě jeho věku a indexu BMI."
   ]
  },
  {
   "cell_type": "code",
   "execution_count": null,
   "metadata": {},
   "outputs": [],
   "source": [
    "# ..."
   ]
  },
  {
   "cell_type": "markdown",
   "metadata": {},
   "source": [
    "## Vylepšený model"
   ]
  },
  {
   "cell_type": "markdown",
   "metadata": {},
   "source": [
    "Model zatím není příliš přesný, což lze posoudit pomocí hodnoty R-squared (koeficient determinace), která by ideálně měla být co nejblíže hodnotě 1, ale zatím dosahuje pouze nízké hodnoty: **R-squared: 0.117**\n",
    "\n",
    "Zkusme do modelu přidat další proměnnou, a to informaci o tom, jestli je pojištěnec kuřák, nebo nekuřák (sloupec `smoker`). K tomu nejdřív potřebujeme převést tuto kategoriální proměnnou na číselnou proměnnou, tzv. dummy proměnnou:"
   ]
  },
  {
   "attachments": {},
   "cell_type": "markdown",
   "metadata": {},
   "source": [
    "### Vytvoření dummy proměnných\n",
    "\n",
    "V regresi se často využívá metoda označovaná jako One Hot Encoding, která slouží ke zpracování nečíselných (kategoriálních) dat. Metodu aplikujeme tak, že vytvoříme sloupec pro každou hodnotu, kterých kategoriální proměnná může nabýt. Pro každý řádek je pak hodnota příslušného sloupce (kategorie) 1 a ostatních sloupců 0. \n",
    "\n",
    "Převeď kategoriální proměnnou \"smoker\" na dummy proměnné pomocí příkazu `data = pd.get_dummies(data, columns=[\"smoker\"])`."
   ]
  },
  {
   "cell_type": "code",
   "execution_count": null,
   "metadata": {},
   "outputs": [],
   "source": [
    "# ..."
   ]
  },
  {
   "cell_type": "markdown",
   "metadata": {},
   "source": [
    "### Přidání další proměnné do modelu"
   ]
  },
  {
   "attachments": {},
   "cell_type": "markdown",
   "metadata": {},
   "source": [
    "Následně sloupec `smoker_yes` přidej jako další nezávislou proměnnou do regresního modelu."
   ]
  },
  {
   "cell_type": "code",
   "execution_count": null,
   "metadata": {},
   "outputs": [],
   "source": [
    "# ..."
   ]
  },
  {
   "attachments": {},
   "cell_type": "markdown",
   "metadata": {},
   "source": [
    "### Výsledky\n",
    "\n",
    "Přidáním informace o kuřáctví se výrazně zvýšil koeficient determinace: **R-squared 0.117 -> 0.747**"
   ]
  }
 ],
 "metadata": {
  "kernelspec": {
   "display_name": "Python 3",
   "language": "python",
   "name": "python3"
  },
  "language_info": {
   "codemirror_mode": {
    "name": "ipython",
    "version": 3
   },
   "file_extension": ".py",
   "mimetype": "text/x-python",
   "name": "python",
   "nbconvert_exporter": "python",
   "pygments_lexer": "ipython3",
   "version": "3.13.2"
  },
  "orig_nbformat": 4
 },
 "nbformat": 4,
 "nbformat_minor": 2
}
