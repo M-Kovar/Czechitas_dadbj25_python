{
 "cells": [
  {
   "cell_type": "markdown",
   "metadata": {},
   "source": [
    "# Cvičení 2: Agregace a řazení"
   ]
  },
  {
   "cell_type": "code",
   "execution_count": 15,
   "metadata": {},
   "outputs": [],
   "source": [
    "import pandas as pd\n",
    "\n",
    "# Příprava vstupního DataFramu\n",
    "food_nutrient = pd.read_csv(\"food_nutrient.csv\")\n",
    "food_sample_100 = pd.read_csv(\"food_sample_100.csv\")\n",
    "food_other = pd.read_csv(\"food_other.csv\")\n",
    "food = pd.concat([food_sample_100, food_other], ignore_index=True)\n",
    "food_merged = pd.merge(food, food_nutrient, on=\"fdc_id\")\n",
    "branded_food = pd.read_csv(\"branded_food.csv\")\n",
    "food_merged_brands = pd.merge(food_merged, branded_food, on=\"fdc_id\")\n",
    "\n",
    "food_merged_brands = food_merged_brands.rename(columns={\"name\": \"nutrient_name\"})"
   ]
  },
  {
   "cell_type": "markdown",
   "metadata": {},
   "source": [
    "## 1. Lipidy a tuky"
   ]
  },
  {
   "cell_type": "markdown",
   "metadata": {},
   "source": [
    "Podívej se nyní na to, které kategorie potravin mají nejvyšší průměrné množství tuků."
   ]
  },
  {
   "cell_type": "markdown",
   "metadata": {},
   "source": [
    "Nejprve pomocí dotazu vytvoř novou tabulku `food_merged_brands_lipid`, do které pomocí dotazu vlož pouze řádky, které mají jako název výživné látky hodnotu `Total lipid (fat)`. \n"
   ]
  },
  {
   "cell_type": "code",
   "execution_count": 16,
   "metadata": {},
   "outputs": [
    {
     "data": {
      "text/plain": [
       "(9319, 36)"
      ]
     },
     "execution_count": 16,
     "metadata": {},
     "output_type": "execute_result"
    }
   ],
   "source": [
    "food_merged_brands_lipid = food_merged_brands[food_merged_brands[\"nutrient_name\"] == \"Total lipid (fat)\"]\n",
    "food_merged_brands_lipid.shape"
   ]
  },
  {
   "cell_type": "markdown",
   "metadata": {},
   "source": [
    "Poté proveď agregaci podle návu kategorie s tím, že vypočítej průměrné množství tuků."
   ]
  },
  {
   "cell_type": "code",
   "execution_count": 17,
   "metadata": {},
   "outputs": [
    {
     "data": {
      "text/plain": [
       "branded_food_category\n",
       "Alcohol                          1.637895\n",
       "All Noodles                      4.887368\n",
       "Baby/Infant  Foods/Beverages     0.000000\n",
       "Bacon                            7.600000\n",
       "Bacon, Sausages & Ribs          31.967778\n",
       "                                  ...    \n",
       "Weight Control                   1.850000\n",
       "Wholesome Snacks                 4.118793\n",
       "Yogurt                           2.414318\n",
       "Yogurt (Perishable)              3.090000\n",
       "Yogurt/Yogurt Substitutes        1.473333\n",
       "Name: amount, Length: 193, dtype: float64"
      ]
     },
     "execution_count": 17,
     "metadata": {},
     "output_type": "execute_result"
    }
   ],
   "source": [
    "food_merged_brands_lipid_agg = food_merged_brands_lipid.groupby(\"branded_food_category\")[\"amount\"].mean()\n",
    "food_merged_brands_lipid_agg"
   ]
  },
  {
   "cell_type": "markdown",
   "metadata": {},
   "source": [
    "Výslednou tabulku seřaď sestupně."
   ]
  },
  {
   "cell_type": "code",
   "execution_count": 18,
   "metadata": {},
   "outputs": [
    {
     "data": {
      "text/plain": [
       "branded_food_category\n",
       "Oils Edible                                        93.330000\n",
       "Vegetable & Cooking Oils                           78.012391\n",
       "Butter & Spread                                    66.552667\n",
       "Butter/Butter Substitutes                          63.965000\n",
       "Meat/Poultry/Other Animals – Prepared/Processed    59.520000\n",
       "                                                     ...    \n",
       "Pickles/Relishes/Chutneys/Olives                    0.000000\n",
       "Specialty Formula Supplements                       0.000000\n",
       "Spreads                                             0.000000\n",
       "Syrups & Molasses                                   0.000000\n",
       "Water                                               0.000000\n",
       "Name: amount, Length: 193, dtype: float64"
      ]
     },
     "execution_count": 18,
     "metadata": {},
     "output_type": "execute_result"
    }
   ],
   "source": [
    "food_merged_brands_lipid_agg_sorted = food_merged_brands_lipid_agg.sort_values(ascending=False)\n",
    "food_merged_brands_lipid_agg_sorted"
   ]
  },
  {
   "cell_type": "markdown",
   "metadata": {},
   "source": [
    "## 2. Výrobci a kategorie"
   ]
  },
  {
   "cell_type": "markdown",
   "metadata": {},
   "source": [
    "Nyní uvažuj, že si chceme udělat přehled o tom, jaký výrobce produkuje jaké typy potravin. \n"
   ]
  },
  {
   "cell_type": "markdown",
   "metadata": {},
   "source": [
    "\n",
    "Proveď agregaci tabulky `food_merged_brands` podle dvou sloupců: `brand_owner` a `branded_food_category`. Sloupce musíš metodě `food_merged_brands` zadat jako seznam, tj. musíš použít hranaté závorky. "
   ]
  },
  {
   "cell_type": "code",
   "execution_count": 19,
   "metadata": {},
   "outputs": [
    {
     "data": {
      "text/plain": [
       "<pandas.core.groupby.generic.DataFrameGroupBy object at 0x0000016A0DF0B9B0>"
      ]
     },
     "execution_count": 19,
     "metadata": {},
     "output_type": "execute_result"
    }
   ],
   "source": [
    "food_merged_brands_grouped = food_merged_brands.groupby([\"brand_owner\", \"branded_food_category\"])\n",
    "food_merged_brands_grouped"
   ]
  },
  {
   "cell_type": "markdown",
   "metadata": {},
   "source": [
    "\n",
    "Dále vyber sloupec `fdc_id` pro provedení agregace a použij agregaci `nunique()`, který vrátí počet unikátních hodnot. \n",
    "\n",
    "Nakonec použij metodu `sort_values` s tím, že chceš data seřadit sestupně."
   ]
  },
  {
   "cell_type": "code",
   "execution_count": 20,
   "metadata": {},
   "outputs": [
    {
     "data": {
      "text/plain": [
       "brand_owner               branded_food_category          \n",
       "Ferrara Candy Company     Candy                              40\n",
       "CAMPBELL SOUP COMPANY     Prepared Soups                     29\n",
       "Wells Enterprises, Inc.   Ice Cream & Frozen Yogurt          24\n",
       "Danone US, LLC            Yogurt                             24\n",
       "Bimbo Bakeries USA, Inc.  Breads & Buns                      24\n",
       "                                                             ..\n",
       "Zachary Confections Inc   Chocolate                           1\n",
       "ZOUP!                     Canned Soup                         1\n",
       "ZOLA                      Plant Based Water                   1\n",
       "A.J. Trucco, Inc.         Pre-Packaged Fruit & Vegetables     1\n",
       "A. Zerega's Sons Inc      All Noodles                         1\n",
       "Name: fdc_id, Length: 5892, dtype: int64"
      ]
     },
     "execution_count": 20,
     "metadata": {},
     "output_type": "execute_result"
    }
   ],
   "source": [
    "food_merged_brands_grouped[\"fdc_id\"].nunique().sort_values(ascending=False)"
   ]
  }
 ],
 "metadata": {
  "kernelspec": {
   "display_name": "Python 3",
   "language": "python",
   "name": "python3"
  },
  "language_info": {
   "codemirror_mode": {
    "name": "ipython",
    "version": 3
   },
   "file_extension": ".py",
   "mimetype": "text/x-python",
   "name": "python",
   "nbconvert_exporter": "python",
   "pygments_lexer": "ipython3",
   "version": "3.13.2"
  },
  "orig_nbformat": 4
 },
 "nbformat": 4,
 "nbformat_minor": 2
}
